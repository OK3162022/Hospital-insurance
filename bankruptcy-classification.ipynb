{
 "cells": [
  {
   "cell_type": "markdown",
   "id": "86b27e10",
   "metadata": {
    "papermill": {
     "duration": 0.015287,
     "end_time": "2022-07-27T16:18:27.288876",
     "exception": false,
     "start_time": "2022-07-27T16:18:27.273589",
     "status": "completed"
    },
    "tags": []
   },
   "source": [
    "\n",
    "# Bankruptcy Classification:\n",
    "\n",
    "Classify bankrupt companies five years from now using financial ratios\n",
    "\n",
    "### Outline:\n",
    "1. Import packages\n",
    "2. Read data\n",
    "3. Data Pre-processing\n",
    "> * Encoding\n",
    "> * Remove Missing data\n",
    "> * Outliers\n",
    "4. Data Analysis\n",
    "> * Descriptive Statistics\n",
    "> * ANOVA/Feature Selection\n",
    "> * Inspect correlations\n",
    "5. SMOTE\n",
    "6. Logistic Regression\n",
    "7. Classification report\n",
    "8. Quantifying the effect of each variable on the prediction\n",
    "9. Findings\n",
    "\n",
    "\n",
    "### Designation:\n",
    "* attr1 - net profit / total assets\n",
    "* attr2 - total liabilities / total assets\n",
    "* attr3 - working capital / total assets\n",
    "* attr4 - current assets / short-term liabilities\n",
    "* attr5 - [(cash + short-term securities + receivables - short-term liabilities) / (operating expenses - depreciation)] * 365\n",
    "* attr6 - retained earnings / total assets\n",
    "* attr7 - EBIT / total assets\n",
    "* attr8 - book value of equity / total liabilities\n",
    "* attr9 - sales / total assets\n",
    "* attr10 - equity / total assets\n",
    "* attr11 - (gross profit + extraordinary items + financial expenses) / total assets\n",
    "* attr12 - gross profit / short-term liabilities\n",
    "* attr13 - (gross profit + depreciation) / sales\n",
    "* attr14 - (gross profit + interest) / total assets\n",
    "* attr15 - (total liabilities * 365) / (gross profit + depreciation)\n",
    "* attr16 - (gross profit + depreciation) / total liabilities\n",
    "* attr17 - total assets / total liabilities\n",
    "* attr18 - gross profit / total assets\n",
    "* attr19 - gross profit / sales\n",
    "* attr20 - (inventory * 365) / sales\n",
    "* attr21 - sales (n) / sales (n-1)\n",
    "* attr22 - profit on operating activities / total assets\n",
    "* attr23 - net profit / sales\n",
    "* attr24 - gross profit (in 3 years) / total assets\n",
    "* attr25 - (equity - share capital) / total assets\n",
    "* attr26 - (net profit + depreciation) / total liabilities\n",
    "* attr27 - profit on operating activities / financial expenses\n",
    "* attr28 - working capital / fixed assets\n",
    "* attr29 - logarithm of total assets\n",
    "* attr30 - (total liabilities - cash) / sales\n",
    "* attr31 - (gross profit + interest) / sales\n",
    "* attr32 - (current liabilities * 365) / cost of products sold\n",
    "* attr33 - operating expenses / short-term liabilities\n",
    "* attr34 - operating expenses / total liabilities\n",
    "* attr35 - profit on sales / total assets\n",
    "* attr36 - total sales / total assets\n",
    "* attr37 - (current assets - inventories) / long-term liabilities\n",
    "* attr38 - constant capital / total assets\n",
    "* attr39 - profit on sales / sales\n",
    "* attr40 - (current assets - inventory - receivables) / short-term liabilities\n",
    "* attr41 - total liabilities / ((profit on operating activities + depreciation) * (12/365))\n",
    "* attr42 - profit on operating activities / sales\n",
    "* attr43 - rotation receivables + inventory turnover in days\n",
    "* attr44 - (receivables * 365) / sales\n",
    "* attr45 - net profit / inventory\n",
    "* attr46 - (current assets - inventory) / short-term liabilities\n",
    "* attr47 - (inventory * 365) / cost of products sold\n",
    "* attr48 - EBITDA (profit on operating activities - depreciation) / total assets\n",
    "* attr49 - EBITDA (profit on operating activities - depreciation) / sales\n",
    "* attr50 - current assets / total liabilities\n",
    "* attr51 - short-term liabilities / total assets\n",
    "* attr52 - (short-term liabilities * 365) / cost of products sold)\n",
    "* attr53 - equity / fixed assets\n",
    "* attr54 - constant capital / fixed assets\n",
    "* attr55 - working capital\n",
    "* attr56 - (sales - cost of products sold) / sales\n",
    "* attr57 - (current assets - inventory - short-term liabilities) / (sales - gross profit - depreciation)\n",
    "* attr58 - total costs /total sales\n",
    "* attr59 - long-term liabilities / equity\n",
    "* attr60 - sales / inventory\n",
    "* attr61 - sales / receivables\n",
    "* attr62 - (short-term liabilities *365) / sales\n",
    "* attr63 - sales / short-term liabilities\n",
    "* attr64 - sales / fixed assets\n",
    "* class - the response variable Y: 0 = did not bankrupt; 1 = bankrupt"
   ]
  },
  {
   "cell_type": "markdown",
   "id": "58f47f66",
   "metadata": {
    "papermill": {
     "duration": 0.013359,
     "end_time": "2022-07-27T16:18:27.315978",
     "exception": false,
     "start_time": "2022-07-27T16:18:27.302619",
     "status": "completed"
    },
    "tags": []
   },
   "source": [
    "# Import packages"
   ]
  },
  {
   "cell_type": "code",
   "execution_count": 1,
   "id": "987e8936",
   "metadata": {
    "execution": {
     "iopub.execute_input": "2022-07-27T16:18:27.346915Z",
     "iopub.status.busy": "2022-07-27T16:18:27.345966Z",
     "iopub.status.idle": "2022-07-27T16:18:29.231098Z",
     "shell.execute_reply": "2022-07-27T16:18:29.229955Z"
    },
    "papermill": {
     "duration": 1.904402,
     "end_time": "2022-07-27T16:18:29.234049",
     "exception": false,
     "start_time": "2022-07-27T16:18:27.329647",
     "status": "completed"
    },
    "tags": []
   },
   "outputs": [],
   "source": [
    "from scipy.io import arff\n",
    "import numpy as np\n",
    "import pandas as pd\n",
    "import matplotlib.pyplot as plt\n",
    "import seaborn as sns\n",
    "from sklearn.feature_selection import SelectKBest, f_classif\n",
    "from imblearn.over_sampling import SMOTE\n",
    "from imblearn.under_sampling import RandomUnderSampler\n",
    "from sklearn.model_selection import train_test_split\n",
    "from sklearn.preprocessing import StandardScaler\n",
    "from sklearn.decomposition import PCA\n",
    "from sklearn.linear_model import LogisticRegression\n",
    "from sklearn.ensemble import RandomForestClassifier\n",
    "from sklearn.pipeline import make_pipeline\n",
    "from sklearn.metrics import classification_report, confusion_matrix, roc_auc_score, roc_curve"
   ]
  },
  {
   "cell_type": "code",
   "execution_count": 2,
   "id": "fc3afba8",
   "metadata": {
    "execution": {
     "iopub.execute_input": "2022-07-27T16:18:29.264862Z",
     "iopub.status.busy": "2022-07-27T16:18:29.264447Z",
     "iopub.status.idle": "2022-07-27T16:18:29.269958Z",
     "shell.execute_reply": "2022-07-27T16:18:29.268750Z"
    },
    "jupyter": {
     "source_hidden": true
    },
    "papermill": {
     "duration": 0.024481,
     "end_time": "2022-07-27T16:18:29.272317",
     "exception": false,
     "start_time": "2022-07-27T16:18:29.247836",
     "status": "completed"
    },
    "tags": []
   },
   "outputs": [],
   "source": [
    "\n",
    "plt.style.use('ggplot')\n",
    "plt.rcParams[\"figure.figsize\"] = (10,9)"
   ]
  },
  {
   "cell_type": "markdown",
   "id": "ecd16d21",
   "metadata": {
    "papermill": {
     "duration": 0.013638,
     "end_time": "2022-07-27T16:18:29.299636",
     "exception": false,
     "start_time": "2022-07-27T16:18:29.285998",
     "status": "completed"
    },
    "tags": []
   },
   "source": [
    "# Read Data"
   ]
  },
  {
   "cell_type": "code",
   "execution_count": 3,
   "id": "d257a996",
   "metadata": {
    "execution": {
     "iopub.execute_input": "2022-07-27T16:18:29.330566Z",
     "iopub.status.busy": "2022-07-27T16:18:29.329797Z",
     "iopub.status.idle": "2022-07-27T16:18:29.912662Z",
     "shell.execute_reply": "2022-07-27T16:18:29.911451Z"
    },
    "papermill": {
     "duration": 0.601607,
     "end_time": "2022-07-27T16:18:29.916073",
     "exception": false,
     "start_time": "2022-07-27T16:18:29.314466",
     "status": "completed"
    },
    "tags": []
   },
   "outputs": [
    {
     "data": {
      "text/html": [
       "<div>\n",
       "<style scoped>\n",
       "    .dataframe tbody tr th:only-of-type {\n",
       "        vertical-align: middle;\n",
       "    }\n",
       "\n",
       "    .dataframe tbody tr th {\n",
       "        vertical-align: top;\n",
       "    }\n",
       "\n",
       "    .dataframe thead th {\n",
       "        text-align: right;\n",
       "    }\n",
       "</style>\n",
       "<table border=\"1\" class=\"dataframe\">\n",
       "  <thead>\n",
       "    <tr style=\"text-align: right;\">\n",
       "      <th></th>\n",
       "      <th>Attr1</th>\n",
       "      <th>Attr2</th>\n",
       "      <th>Attr3</th>\n",
       "      <th>Attr4</th>\n",
       "      <th>Attr5</th>\n",
       "      <th>Attr6</th>\n",
       "      <th>Attr7</th>\n",
       "      <th>Attr8</th>\n",
       "      <th>Attr9</th>\n",
       "      <th>Attr10</th>\n",
       "      <th>...</th>\n",
       "      <th>Attr56</th>\n",
       "      <th>Attr57</th>\n",
       "      <th>Attr58</th>\n",
       "      <th>Attr59</th>\n",
       "      <th>Attr60</th>\n",
       "      <th>Attr61</th>\n",
       "      <th>Attr62</th>\n",
       "      <th>Attr63</th>\n",
       "      <th>Attr64</th>\n",
       "      <th>class</th>\n",
       "    </tr>\n",
       "  </thead>\n",
       "  <tbody>\n",
       "    <tr>\n",
       "      <th>0</th>\n",
       "      <td>0.200550</td>\n",
       "      <td>0.37951</td>\n",
       "      <td>0.39641</td>\n",
       "      <td>2.04720</td>\n",
       "      <td>32.3510</td>\n",
       "      <td>0.388250</td>\n",
       "      <td>0.249760</td>\n",
       "      <td>1.330500</td>\n",
       "      <td>1.13890</td>\n",
       "      <td>0.504940</td>\n",
       "      <td>...</td>\n",
       "      <td>0.121960</td>\n",
       "      <td>0.397180</td>\n",
       "      <td>0.87804</td>\n",
       "      <td>0.001924</td>\n",
       "      <td>8.4160</td>\n",
       "      <td>5.1372</td>\n",
       "      <td>82.658</td>\n",
       "      <td>4.4158</td>\n",
       "      <td>7.42770</td>\n",
       "      <td>b'0'</td>\n",
       "    </tr>\n",
       "    <tr>\n",
       "      <th>1</th>\n",
       "      <td>0.209120</td>\n",
       "      <td>0.49988</td>\n",
       "      <td>0.47225</td>\n",
       "      <td>1.94470</td>\n",
       "      <td>14.7860</td>\n",
       "      <td>0.000000</td>\n",
       "      <td>0.258340</td>\n",
       "      <td>0.996010</td>\n",
       "      <td>1.69960</td>\n",
       "      <td>0.497880</td>\n",
       "      <td>...</td>\n",
       "      <td>0.121300</td>\n",
       "      <td>0.420020</td>\n",
       "      <td>0.85300</td>\n",
       "      <td>0.000000</td>\n",
       "      <td>4.1486</td>\n",
       "      <td>3.2732</td>\n",
       "      <td>107.350</td>\n",
       "      <td>3.4000</td>\n",
       "      <td>60.98700</td>\n",
       "      <td>b'0'</td>\n",
       "    </tr>\n",
       "    <tr>\n",
       "      <th>2</th>\n",
       "      <td>0.248660</td>\n",
       "      <td>0.69592</td>\n",
       "      <td>0.26713</td>\n",
       "      <td>1.55480</td>\n",
       "      <td>-1.1523</td>\n",
       "      <td>0.000000</td>\n",
       "      <td>0.309060</td>\n",
       "      <td>0.436950</td>\n",
       "      <td>1.30900</td>\n",
       "      <td>0.304080</td>\n",
       "      <td>...</td>\n",
       "      <td>0.241140</td>\n",
       "      <td>0.817740</td>\n",
       "      <td>0.76599</td>\n",
       "      <td>0.694840</td>\n",
       "      <td>4.9909</td>\n",
       "      <td>3.9510</td>\n",
       "      <td>134.270</td>\n",
       "      <td>2.7185</td>\n",
       "      <td>5.20780</td>\n",
       "      <td>b'0'</td>\n",
       "    </tr>\n",
       "    <tr>\n",
       "      <th>3</th>\n",
       "      <td>0.081483</td>\n",
       "      <td>0.30734</td>\n",
       "      <td>0.45879</td>\n",
       "      <td>2.49280</td>\n",
       "      <td>51.9520</td>\n",
       "      <td>0.149880</td>\n",
       "      <td>0.092704</td>\n",
       "      <td>1.866100</td>\n",
       "      <td>1.05710</td>\n",
       "      <td>0.573530</td>\n",
       "      <td>...</td>\n",
       "      <td>0.054015</td>\n",
       "      <td>0.142070</td>\n",
       "      <td>0.94598</td>\n",
       "      <td>0.000000</td>\n",
       "      <td>4.5746</td>\n",
       "      <td>3.6147</td>\n",
       "      <td>86.435</td>\n",
       "      <td>4.2228</td>\n",
       "      <td>5.54970</td>\n",
       "      <td>b'0'</td>\n",
       "    </tr>\n",
       "    <tr>\n",
       "      <th>4</th>\n",
       "      <td>0.187320</td>\n",
       "      <td>0.61323</td>\n",
       "      <td>0.22960</td>\n",
       "      <td>1.40630</td>\n",
       "      <td>-7.3128</td>\n",
       "      <td>0.187320</td>\n",
       "      <td>0.187320</td>\n",
       "      <td>0.630700</td>\n",
       "      <td>1.15590</td>\n",
       "      <td>0.386770</td>\n",
       "      <td>...</td>\n",
       "      <td>0.134850</td>\n",
       "      <td>0.484310</td>\n",
       "      <td>0.86515</td>\n",
       "      <td>0.124440</td>\n",
       "      <td>6.3985</td>\n",
       "      <td>4.3158</td>\n",
       "      <td>127.210</td>\n",
       "      <td>2.8692</td>\n",
       "      <td>7.89800</td>\n",
       "      <td>b'0'</td>\n",
       "    </tr>\n",
       "    <tr>\n",
       "      <th>...</th>\n",
       "      <td>...</td>\n",
       "      <td>...</td>\n",
       "      <td>...</td>\n",
       "      <td>...</td>\n",
       "      <td>...</td>\n",
       "      <td>...</td>\n",
       "      <td>...</td>\n",
       "      <td>...</td>\n",
       "      <td>...</td>\n",
       "      <td>...</td>\n",
       "      <td>...</td>\n",
       "      <td>...</td>\n",
       "      <td>...</td>\n",
       "      <td>...</td>\n",
       "      <td>...</td>\n",
       "      <td>...</td>\n",
       "      <td>...</td>\n",
       "      <td>...</td>\n",
       "      <td>...</td>\n",
       "      <td>...</td>\n",
       "      <td>...</td>\n",
       "    </tr>\n",
       "    <tr>\n",
       "      <th>7022</th>\n",
       "      <td>0.018371</td>\n",
       "      <td>0.47410</td>\n",
       "      <td>-0.13619</td>\n",
       "      <td>0.60839</td>\n",
       "      <td>-18.4490</td>\n",
       "      <td>0.018371</td>\n",
       "      <td>0.018371</td>\n",
       "      <td>0.972030</td>\n",
       "      <td>1.01210</td>\n",
       "      <td>0.460840</td>\n",
       "      <td>...</td>\n",
       "      <td>0.011909</td>\n",
       "      <td>0.039866</td>\n",
       "      <td>0.98809</td>\n",
       "      <td>0.274140</td>\n",
       "      <td>73.5050</td>\n",
       "      <td>79.2370</td>\n",
       "      <td>31.268</td>\n",
       "      <td>11.6730</td>\n",
       "      <td>5.14890</td>\n",
       "      <td>b'1'</td>\n",
       "    </tr>\n",
       "    <tr>\n",
       "      <th>7023</th>\n",
       "      <td>-0.013359</td>\n",
       "      <td>0.58354</td>\n",
       "      <td>-0.02265</td>\n",
       "      <td>0.92896</td>\n",
       "      <td>-42.2320</td>\n",
       "      <td>-0.013359</td>\n",
       "      <td>-0.015036</td>\n",
       "      <td>0.562890</td>\n",
       "      <td>0.98904</td>\n",
       "      <td>0.328470</td>\n",
       "      <td>...</td>\n",
       "      <td>-0.011082</td>\n",
       "      <td>-0.040671</td>\n",
       "      <td>1.01110</td>\n",
       "      <td>0.805920</td>\n",
       "      <td>10.5990</td>\n",
       "      <td>7.1740</td>\n",
       "      <td>94.092</td>\n",
       "      <td>3.8792</td>\n",
       "      <td>1.75720</td>\n",
       "      <td>b'1'</td>\n",
       "    </tr>\n",
       "    <tr>\n",
       "      <th>7024</th>\n",
       "      <td>0.006338</td>\n",
       "      <td>0.50276</td>\n",
       "      <td>0.43923</td>\n",
       "      <td>1.87360</td>\n",
       "      <td>9.7417</td>\n",
       "      <td>0.006338</td>\n",
       "      <td>0.012022</td>\n",
       "      <td>0.983560</td>\n",
       "      <td>1.00830</td>\n",
       "      <td>0.494490</td>\n",
       "      <td>...</td>\n",
       "      <td>0.008258</td>\n",
       "      <td>0.012817</td>\n",
       "      <td>0.99174</td>\n",
       "      <td>0.000000</td>\n",
       "      <td>10.4700</td>\n",
       "      <td>6.0759</td>\n",
       "      <td>51.019</td>\n",
       "      <td>7.1542</td>\n",
       "      <td>62.00100</td>\n",
       "      <td>b'1'</td>\n",
       "    </tr>\n",
       "    <tr>\n",
       "      <th>7025</th>\n",
       "      <td>-0.041643</td>\n",
       "      <td>0.84810</td>\n",
       "      <td>-0.12852</td>\n",
       "      <td>0.57485</td>\n",
       "      <td>-121.9200</td>\n",
       "      <td>0.000000</td>\n",
       "      <td>-0.036795</td>\n",
       "      <td>0.179010</td>\n",
       "      <td>0.42138</td>\n",
       "      <td>0.151820</td>\n",
       "      <td>...</td>\n",
       "      <td>-0.232720</td>\n",
       "      <td>-0.274290</td>\n",
       "      <td>0.98788</td>\n",
       "      <td>3.593100</td>\n",
       "      <td>39.7030</td>\n",
       "      <td>3.1420</td>\n",
       "      <td>261.850</td>\n",
       "      <td>1.3939</td>\n",
       "      <td>0.51005</td>\n",
       "      <td>b'1'</td>\n",
       "    </tr>\n",
       "    <tr>\n",
       "      <th>7026</th>\n",
       "      <td>0.014946</td>\n",
       "      <td>0.94648</td>\n",
       "      <td>0.03211</td>\n",
       "      <td>1.03630</td>\n",
       "      <td>-20.5810</td>\n",
       "      <td>0.000000</td>\n",
       "      <td>0.015260</td>\n",
       "      <td>0.056357</td>\n",
       "      <td>2.96940</td>\n",
       "      <td>0.053341</td>\n",
       "      <td>...</td>\n",
       "      <td>0.015705</td>\n",
       "      <td>0.280210</td>\n",
       "      <td>0.97443</td>\n",
       "      <td>1.179200</td>\n",
       "      <td>15.0360</td>\n",
       "      <td>4.1741</td>\n",
       "      <td>108.640</td>\n",
       "      <td>3.3599</td>\n",
       "      <td>35.11800</td>\n",
       "      <td>b'1'</td>\n",
       "    </tr>\n",
       "  </tbody>\n",
       "</table>\n",
       "<p>7027 rows × 65 columns</p>\n",
       "</div>"
      ],
      "text/plain": [
       "         Attr1    Attr2    Attr3    Attr4     Attr5     Attr6     Attr7  \\\n",
       "0     0.200550  0.37951  0.39641  2.04720   32.3510  0.388250  0.249760   \n",
       "1     0.209120  0.49988  0.47225  1.94470   14.7860  0.000000  0.258340   \n",
       "2     0.248660  0.69592  0.26713  1.55480   -1.1523  0.000000  0.309060   \n",
       "3     0.081483  0.30734  0.45879  2.49280   51.9520  0.149880  0.092704   \n",
       "4     0.187320  0.61323  0.22960  1.40630   -7.3128  0.187320  0.187320   \n",
       "...        ...      ...      ...      ...       ...       ...       ...   \n",
       "7022  0.018371  0.47410 -0.13619  0.60839  -18.4490  0.018371  0.018371   \n",
       "7023 -0.013359  0.58354 -0.02265  0.92896  -42.2320 -0.013359 -0.015036   \n",
       "7024  0.006338  0.50276  0.43923  1.87360    9.7417  0.006338  0.012022   \n",
       "7025 -0.041643  0.84810 -0.12852  0.57485 -121.9200  0.000000 -0.036795   \n",
       "7026  0.014946  0.94648  0.03211  1.03630  -20.5810  0.000000  0.015260   \n",
       "\n",
       "         Attr8    Attr9    Attr10  ...    Attr56    Attr57   Attr58    Attr59  \\\n",
       "0     1.330500  1.13890  0.504940  ...  0.121960  0.397180  0.87804  0.001924   \n",
       "1     0.996010  1.69960  0.497880  ...  0.121300  0.420020  0.85300  0.000000   \n",
       "2     0.436950  1.30900  0.304080  ...  0.241140  0.817740  0.76599  0.694840   \n",
       "3     1.866100  1.05710  0.573530  ...  0.054015  0.142070  0.94598  0.000000   \n",
       "4     0.630700  1.15590  0.386770  ...  0.134850  0.484310  0.86515  0.124440   \n",
       "...        ...      ...       ...  ...       ...       ...      ...       ...   \n",
       "7022  0.972030  1.01210  0.460840  ...  0.011909  0.039866  0.98809  0.274140   \n",
       "7023  0.562890  0.98904  0.328470  ... -0.011082 -0.040671  1.01110  0.805920   \n",
       "7024  0.983560  1.00830  0.494490  ...  0.008258  0.012817  0.99174  0.000000   \n",
       "7025  0.179010  0.42138  0.151820  ... -0.232720 -0.274290  0.98788  3.593100   \n",
       "7026  0.056357  2.96940  0.053341  ...  0.015705  0.280210  0.97443  1.179200   \n",
       "\n",
       "       Attr60   Attr61   Attr62   Attr63    Attr64  class  \n",
       "0      8.4160   5.1372   82.658   4.4158   7.42770   b'0'  \n",
       "1      4.1486   3.2732  107.350   3.4000  60.98700   b'0'  \n",
       "2      4.9909   3.9510  134.270   2.7185   5.20780   b'0'  \n",
       "3      4.5746   3.6147   86.435   4.2228   5.54970   b'0'  \n",
       "4      6.3985   4.3158  127.210   2.8692   7.89800   b'0'  \n",
       "...       ...      ...      ...      ...       ...    ...  \n",
       "7022  73.5050  79.2370   31.268  11.6730   5.14890   b'1'  \n",
       "7023  10.5990   7.1740   94.092   3.8792   1.75720   b'1'  \n",
       "7024  10.4700   6.0759   51.019   7.1542  62.00100   b'1'  \n",
       "7025  39.7030   3.1420  261.850   1.3939   0.51005   b'1'  \n",
       "7026  15.0360   4.1741  108.640   3.3599  35.11800   b'1'  \n",
       "\n",
       "[7027 rows x 65 columns]"
      ]
     },
     "execution_count": 3,
     "metadata": {},
     "output_type": "execute_result"
    }
   ],
   "source": [
    "data = arff.loadarff('../input/forecasting-bankrupts-with-ann/1year.arff')\n",
    "df = pd.DataFrame(data[0])\n",
    "df"
   ]
  },
  {
   "cell_type": "markdown",
   "id": "8535138a",
   "metadata": {
    "papermill": {
     "duration": 0.01397,
     "end_time": "2022-07-27T16:18:29.945228",
     "exception": false,
     "start_time": "2022-07-27T16:18:29.931258",
     "status": "completed"
    },
    "tags": []
   },
   "source": [
    "# Pre-processing:"
   ]
  },
  {
   "cell_type": "markdown",
   "id": "a01e6245",
   "metadata": {
    "papermill": {
     "duration": 0.014539,
     "end_time": "2022-07-27T16:18:29.974616",
     "exception": false,
     "start_time": "2022-07-27T16:18:29.960077",
     "status": "completed"
    },
    "tags": []
   },
   "source": [
    "## Encoding:\n",
    "Convert target to 0's and 1's instead of b'0' and b'1' respectively."
   ]
  },
  {
   "cell_type": "code",
   "execution_count": 4,
   "id": "f7c466b5",
   "metadata": {
    "execution": {
     "iopub.execute_input": "2022-07-27T16:18:30.006579Z",
     "iopub.status.busy": "2022-07-27T16:18:30.006191Z",
     "iopub.status.idle": "2022-07-27T16:18:30.017135Z",
     "shell.execute_reply": "2022-07-27T16:18:30.015937Z"
    },
    "papermill": {
     "duration": 0.029461,
     "end_time": "2022-07-27T16:18:30.019609",
     "exception": false,
     "start_time": "2022-07-27T16:18:29.990148",
     "status": "completed"
    },
    "tags": []
   },
   "outputs": [],
   "source": [
    "df['class'] = df['class'].astype(int)"
   ]
  },
  {
   "cell_type": "markdown",
   "id": "8851c7b9",
   "metadata": {
    "_kg_hide-input": true,
    "papermill": {
     "duration": 0.014395,
     "end_time": "2022-07-27T16:18:30.049384",
     "exception": false,
     "start_time": "2022-07-27T16:18:30.034989",
     "status": "completed"
    },
    "tags": []
   },
   "source": [
    "## Remove missing values"
   ]
  },
  {
   "cell_type": "code",
   "execution_count": 5,
   "id": "869a154f",
   "metadata": {
    "execution": {
     "iopub.execute_input": "2022-07-27T16:18:30.083477Z",
     "iopub.status.busy": "2022-07-27T16:18:30.082829Z",
     "iopub.status.idle": "2022-07-27T16:18:30.109616Z",
     "shell.execute_reply": "2022-07-27T16:18:30.107616Z"
    },
    "papermill": {
     "duration": 0.048553,
     "end_time": "2022-07-27T16:18:30.112122",
     "exception": false,
     "start_time": "2022-07-27T16:18:30.063569",
     "status": "completed"
    },
    "tags": []
   },
   "outputs": [
    {
     "name": "stdout",
     "output_type": "stream",
     "text": [
      "<class 'pandas.core.frame.DataFrame'>\n",
      "RangeIndex: 7027 entries, 0 to 7026\n",
      "Data columns (total 65 columns):\n",
      " #   Column  Non-Null Count  Dtype  \n",
      "---  ------  --------------  -----  \n",
      " 0   Attr1   7024 non-null   float64\n",
      " 1   Attr2   7024 non-null   float64\n",
      " 2   Attr3   7024 non-null   float64\n",
      " 3   Attr4   6997 non-null   float64\n",
      " 4   Attr5   7019 non-null   float64\n",
      " 5   Attr6   7024 non-null   float64\n",
      " 6   Attr7   7024 non-null   float64\n",
      " 7   Attr8   7002 non-null   float64\n",
      " 8   Attr9   7026 non-null   float64\n",
      " 9   Attr10  7024 non-null   float64\n",
      " 10  Attr11  6988 non-null   float64\n",
      " 11  Attr12  6997 non-null   float64\n",
      " 12  Attr13  7027 non-null   float64\n",
      " 13  Attr14  7024 non-null   float64\n",
      " 14  Attr15  7025 non-null   float64\n",
      " 15  Attr16  7002 non-null   float64\n",
      " 16  Attr17  7002 non-null   float64\n",
      " 17  Attr18  7024 non-null   float64\n",
      " 18  Attr19  7027 non-null   float64\n",
      " 19  Attr20  7027 non-null   float64\n",
      " 20  Attr21  5405 non-null   float64\n",
      " 21  Attr22  7024 non-null   float64\n",
      " 22  Attr23  7027 non-null   float64\n",
      " 23  Attr24  6903 non-null   float64\n",
      " 24  Attr25  7024 non-null   float64\n",
      " 25  Attr26  7002 non-null   float64\n",
      " 26  Attr27  6716 non-null   float64\n",
      " 27  Attr28  6993 non-null   float64\n",
      " 28  Attr29  7024 non-null   float64\n",
      " 29  Attr30  7027 non-null   float64\n",
      " 30  Attr31  7027 non-null   float64\n",
      " 31  Attr32  6989 non-null   float64\n",
      " 32  Attr33  6997 non-null   float64\n",
      " 33  Attr34  7002 non-null   float64\n",
      " 34  Attr35  7024 non-null   float64\n",
      " 35  Attr36  7024 non-null   float64\n",
      " 36  Attr37  4287 non-null   float64\n",
      " 37  Attr38  7024 non-null   float64\n",
      " 38  Attr39  7027 non-null   float64\n",
      " 39  Attr40  6997 non-null   float64\n",
      " 40  Attr41  6943 non-null   float64\n",
      " 41  Attr42  7027 non-null   float64\n",
      " 42  Attr43  7027 non-null   float64\n",
      " 43  Attr44  7027 non-null   float64\n",
      " 44  Attr45  6893 non-null   float64\n",
      " 45  Attr46  6996 non-null   float64\n",
      " 46  Attr47  6998 non-null   float64\n",
      " 47  Attr48  7024 non-null   float64\n",
      " 48  Attr49  7027 non-null   float64\n",
      " 49  Attr50  7002 non-null   float64\n",
      " 50  Attr51  7024 non-null   float64\n",
      " 51  Attr52  6998 non-null   float64\n",
      " 52  Attr53  6993 non-null   float64\n",
      " 53  Attr54  6993 non-null   float64\n",
      " 54  Attr55  7027 non-null   float64\n",
      " 55  Attr56  7027 non-null   float64\n",
      " 56  Attr57  7026 non-null   float64\n",
      " 57  Attr58  7027 non-null   float64\n",
      " 58  Attr59  7026 non-null   float64\n",
      " 59  Attr60  6892 non-null   float64\n",
      " 60  Attr61  7005 non-null   float64\n",
      " 61  Attr62  7027 non-null   float64\n",
      " 62  Attr63  6997 non-null   float64\n",
      " 63  Attr64  6993 non-null   float64\n",
      " 64  class   7027 non-null   int64  \n",
      "dtypes: float64(64), int64(1)\n",
      "memory usage: 3.5 MB\n"
     ]
    }
   ],
   "source": [
    "df.info()"
   ]
  },
  {
   "cell_type": "code",
   "execution_count": 6,
   "id": "b45858d8",
   "metadata": {
    "execution": {
     "iopub.execute_input": "2022-07-27T16:18:30.142419Z",
     "iopub.status.busy": "2022-07-27T16:18:30.142017Z",
     "iopub.status.idle": "2022-07-27T16:18:31.351517Z",
     "shell.execute_reply": "2022-07-27T16:18:31.350194Z"
    },
    "papermill": {
     "duration": 1.227987,
     "end_time": "2022-07-27T16:18:31.354433",
     "exception": false,
     "start_time": "2022-07-27T16:18:30.126446",
     "status": "completed"
    },
    "tags": []
   },
   "outputs": [
    {
     "data": {
      "image/png": "[encoded data removed]",
      "text/plain": [
       "<Figure size 720x648 with 2 Axes>"
      ]
     },
     "metadata": {},
     "output_type": "display_data"
    }
   ],
   "source": [
    "sns.heatmap(df.isna())\n",
    "plt.show()"
   ]
  },
  {
   "cell_type": "markdown",
   "id": "1040a29a",
   "metadata": {
    "papermill": {
     "duration": 0.015598,
     "end_time": "2022-07-27T16:18:31.385744",
     "exception": false,
     "start_time": "2022-07-27T16:18:31.370146",
     "status": "completed"
    },
    "tags": []
   },
   "source": [
    "Drop Attr21 & Attr37 then remove Nan"
   ]
  },
  {
   "cell_type": "code",
   "execution_count": 7,
   "id": "676eba04",
   "metadata": {
    "execution": {
     "iopub.execute_input": "2022-07-27T16:18:31.417783Z",
     "iopub.status.busy": "2022-07-27T16:18:31.417364Z",
     "iopub.status.idle": "2022-07-27T16:18:31.435574Z",
     "shell.execute_reply": "2022-07-27T16:18:31.434571Z"
    },
    "papermill": {
     "duration": 0.036949,
     "end_time": "2022-07-27T16:18:31.437859",
     "exception": false,
     "start_time": "2022-07-27T16:18:31.400910",
     "status": "completed"
    },
    "tags": []
   },
   "outputs": [
    {
     "data": {
      "text/plain": [
       "Attr1     0\n",
       "Attr2     0\n",
       "Attr3     0\n",
       "Attr4     0\n",
       "Attr5     0\n",
       "         ..\n",
       "Attr61    0\n",
       "Attr62    0\n",
       "Attr63    0\n",
       "Attr64    0\n",
       "class     0\n",
       "Length: 63, dtype: int64"
      ]
     },
     "execution_count": 7,
     "metadata": {},
     "output_type": "execute_result"
    }
   ],
   "source": [
    "df.drop(['Attr21','Attr37'], axis = 1, inplace = True)\n",
    "df.dropna(inplace = True)\n",
    "df.isna().sum()"
   ]
  },
  {
   "cell_type": "markdown",
   "id": "f6740fa2",
   "metadata": {
    "papermill": {
     "duration": 0.015623,
     "end_time": "2022-07-27T16:18:31.468953",
     "exception": false,
     "start_time": "2022-07-27T16:18:31.453330",
     "status": "completed"
    },
    "tags": []
   },
   "source": [
    "64 variables are of type floats with no missing values and a binary Target \n"
   ]
  },
  {
   "cell_type": "markdown",
   "id": "68b8af7f",
   "metadata": {
    "papermill": {
     "duration": 0.014718,
     "end_time": "2022-07-27T16:18:31.498864",
     "exception": false,
     "start_time": "2022-07-27T16:18:31.484146",
     "status": "completed"
    },
    "tags": []
   },
   "source": [
    "## Outliers\n",
    "Filtering outliers removed more than half of the samples."
   ]
  },
  {
   "cell_type": "code",
   "execution_count": 8,
   "id": "8d36e39e",
   "metadata": {
    "_kg_hide-input": true,
    "execution": {
     "iopub.execute_input": "2022-07-27T16:18:31.532643Z",
     "iopub.status.busy": "2022-07-27T16:18:31.531459Z",
     "iopub.status.idle": "2022-07-27T16:18:31.539073Z",
     "shell.execute_reply": "2022-07-27T16:18:31.538110Z"
    },
    "jupyter": {
     "source_hidden": true
    },
    "papermill": {
     "duration": 0.026627,
     "end_time": "2022-07-27T16:18:31.541641",
     "exception": false,
     "start_time": "2022-07-27T16:18:31.515014",
     "status": "completed"
    },
    "tags": []
   },
   "outputs": [],
   "source": [
    "def identify_outliers(x,multiplier):\n",
    "    \"\"\"\"Detect ouliers using IQR method with \"\"\"\n",
    "\n",
    "    q75 = np.percentile(x, 75)\n",
    "    q25 = np.percentile(x, 25)\n",
    "    iqr = q75 - q25\n",
    "    threshold = iqr*multiplier\n",
    "    upper = q75 + threshold \n",
    "    lower = q25 - threshold\n",
    "    outliers = x[(x<lower) | (x> upper)]\n",
    "    return outliers    "
   ]
  },
  {
   "cell_type": "code",
   "execution_count": 9,
   "id": "bf07ee0f",
   "metadata": {
    "execution": {
     "iopub.execute_input": "2022-07-27T16:18:31.574178Z",
     "iopub.status.busy": "2022-07-27T16:18:31.573406Z",
     "iopub.status.idle": "2022-07-27T16:18:31.578847Z",
     "shell.execute_reply": "2022-07-27T16:18:31.577665Z"
    },
    "jupyter": {
     "source_hidden": true
    },
    "papermill": {
     "duration": 0.024811,
     "end_time": "2022-07-27T16:18:31.581450",
     "exception": false,
     "start_time": "2022-07-27T16:18:31.556639",
     "status": "completed"
    },
    "tags": []
   },
   "outputs": [],
   "source": [
    "#for col in df.iloc[:,:-1]:\n",
    "#    outliers = identify_outliers(df[col], 3)\n",
    "#    df.drop(labels = outliers.index, axis = 0, inplace = True)"
   ]
  },
  {
   "cell_type": "markdown",
   "id": "ec323aeb",
   "metadata": {
    "papermill": {
     "duration": 0.014702,
     "end_time": "2022-07-27T16:18:31.611126",
     "exception": false,
     "start_time": "2022-07-27T16:18:31.596424",
     "status": "completed"
    },
    "tags": []
   },
   "source": [
    "## Data Analysis"
   ]
  },
  {
   "cell_type": "code",
   "execution_count": 10,
   "id": "1e9a983c",
   "metadata": {
    "execution": {
     "iopub.execute_input": "2022-07-27T16:18:31.642580Z",
     "iopub.status.busy": "2022-07-27T16:18:31.642183Z",
     "iopub.status.idle": "2022-07-27T16:18:31.777981Z",
     "shell.execute_reply": "2022-07-27T16:18:31.776759Z"
    },
    "papermill": {
     "duration": 0.156476,
     "end_time": "2022-07-27T16:18:31.782420",
     "exception": false,
     "start_time": "2022-07-27T16:18:31.625944",
     "status": "completed"
    },
    "tags": []
   },
   "outputs": [
    {
     "name": "stderr",
     "output_type": "stream",
     "text": [
      "/opt/conda/lib/python3.7/site-packages/seaborn/_decorators.py:43: FutureWarning: Pass the following variable as a keyword arg: x. From version 0.12, the only valid positional argument will be `data`, and passing other arguments without an explicit keyword will result in an error or misinterpretation.\n",
      "  FutureWarning\n"
     ]
    },
    {
     "data": {
      "image/png": "[encoded data removed]",
      "text/plain": [
       "<Figure size 720x648 with 1 Axes>"
      ]
     },
     "metadata": {},
     "output_type": "display_data"
    },
    {
     "name": "stdout",
     "output_type": "stream",
     "text": [
      "1.6619183285849954\n"
     ]
    }
   ],
   "source": [
    "sns.countplot(df['class'])\n",
    "plt.xticks([0,1], ['Non-bankrupt', 'Bankrupt'])\n",
    "plt.show()\n",
    "print(len(df[df['class'] == 1])/len(df['class']) * 100)"
   ]
  },
  {
   "cell_type": "markdown",
   "id": "0edcf6a9",
   "metadata": {
    "papermill": {
     "duration": 0.016061,
     "end_time": "2022-07-27T16:18:31.816098",
     "exception": false,
     "start_time": "2022-07-27T16:18:31.800037",
     "status": "completed"
    },
    "tags": []
   },
   "source": [
    "The data is imbalanced where only 1.66% of the companies are bankrupt. This might suggest reconsidering the evaluations metrics such as precsions and recall when classifyng or oversampling"
   ]
  },
  {
   "cell_type": "code",
   "execution_count": 11,
   "id": "eaebc8a8",
   "metadata": {
    "execution": {
     "iopub.execute_input": "2022-07-27T16:18:31.849344Z",
     "iopub.status.busy": "2022-07-27T16:18:31.848914Z",
     "iopub.status.idle": "2022-07-27T16:18:32.599450Z",
     "shell.execute_reply": "2022-07-27T16:18:32.598091Z"
    },
    "papermill": {
     "duration": 0.769934,
     "end_time": "2022-07-27T16:18:32.601843",
     "exception": false,
     "start_time": "2022-07-27T16:18:31.831909",
     "status": "completed"
    },
    "tags": []
   },
   "outputs": [
    {
     "name": "stderr",
     "output_type": "stream",
     "text": [
      "/opt/conda/lib/python3.7/site-packages/seaborn/_decorators.py:43: FutureWarning: Pass the following variables as keyword args: x, y. From version 0.12, the only valid positional argument will be `data`, and passing other arguments without an explicit keyword will result in an error or misinterpretation.\n",
      "  FutureWarning\n",
      "/opt/conda/lib/python3.7/site-packages/seaborn/_decorators.py:43: FutureWarning: Pass the following variables as keyword args: x, y. From version 0.12, the only valid positional argument will be `data`, and passing other arguments without an explicit keyword will result in an error or misinterpretation.\n",
      "  FutureWarning\n"
     ]
    },
    {
     "data": {
      "image/png": "[encoded data removed]",
      "text/plain": [
       "<Figure size 720x648 with 2 Axes>"
      ]
     },
     "metadata": {},
     "output_type": "display_data"
    }
   ],
   "source": [
    "plt.subplot(1,2,1)\n",
    "sns.scatterplot(df['Attr1'], df['Attr2'], hue = df['class'])\n",
    "\n",
    "plt.subplot(1,2,2)\n",
    "sns.scatterplot(df['Attr11'], df['Attr12'], hue = df['class'])\n",
    "plt.show()"
   ]
  },
  {
   "cell_type": "markdown",
   "id": "63360c7d",
   "metadata": {
    "papermill": {
     "duration": 0.016464,
     "end_time": "2022-07-27T16:18:32.635115",
     "exception": false,
     "start_time": "2022-07-27T16:18:32.618651",
     "status": "completed"
    },
    "tags": []
   },
   "source": [
    "## Descriptive Statistics"
   ]
  },
  {
   "cell_type": "code",
   "execution_count": 12,
   "id": "c199dfed",
   "metadata": {
    "execution": {
     "iopub.execute_input": "2022-07-27T16:18:32.670789Z",
     "iopub.status.busy": "2022-07-27T16:18:32.670378Z",
     "iopub.status.idle": "2022-07-27T16:18:32.836300Z",
     "shell.execute_reply": "2022-07-27T16:18:32.835050Z"
    },
    "papermill": {
     "duration": 0.186482,
     "end_time": "2022-07-27T16:18:32.838812",
     "exception": false,
     "start_time": "2022-07-27T16:18:32.652330",
     "status": "completed"
    },
    "tags": []
   },
   "outputs": [
    {
     "data": {
      "text/html": [
       "<div>\n",
       "<style scoped>\n",
       "    .dataframe tbody tr th:only-of-type {\n",
       "        vertical-align: middle;\n",
       "    }\n",
       "\n",
       "    .dataframe tbody tr th {\n",
       "        vertical-align: top;\n",
       "    }\n",
       "\n",
       "    .dataframe thead th {\n",
       "        text-align: right;\n",
       "    }\n",
       "</style>\n",
       "<table border=\"1\" class=\"dataframe\">\n",
       "  <thead>\n",
       "    <tr style=\"text-align: right;\">\n",
       "      <th></th>\n",
       "      <th>count</th>\n",
       "      <th>mean</th>\n",
       "      <th>std</th>\n",
       "      <th>min</th>\n",
       "      <th>25%</th>\n",
       "      <th>50%</th>\n",
       "      <th>75%</th>\n",
       "      <th>max</th>\n",
       "    </tr>\n",
       "  </thead>\n",
       "  <tbody>\n",
       "    <tr>\n",
       "      <th>Attr1</th>\n",
       "      <td>6318.0</td>\n",
       "      <td>0.104830</td>\n",
       "      <td>0.155845</td>\n",
       "      <td>-1.186200</td>\n",
       "      <td>0.022538</td>\n",
       "      <td>0.076168</td>\n",
       "      <td>0.157773</td>\n",
       "      <td>1.994300e+00</td>\n",
       "    </tr>\n",
       "    <tr>\n",
       "      <th>Attr2</th>\n",
       "      <td>6318.0</td>\n",
       "      <td>0.502763</td>\n",
       "      <td>0.310280</td>\n",
       "      <td>0.004765</td>\n",
       "      <td>0.298922</td>\n",
       "      <td>0.481230</td>\n",
       "      <td>0.677360</td>\n",
       "      <td>1.075900e+01</td>\n",
       "    </tr>\n",
       "    <tr>\n",
       "      <th>Attr3</th>\n",
       "      <td>6318.0</td>\n",
       "      <td>0.186207</td>\n",
       "      <td>0.304604</td>\n",
       "      <td>-10.036000</td>\n",
       "      <td>0.029755</td>\n",
       "      <td>0.181190</td>\n",
       "      <td>0.358245</td>\n",
       "      <td>9.518000e-01</td>\n",
       "    </tr>\n",
       "    <tr>\n",
       "      <th>Attr4</th>\n",
       "      <td>6318.0</td>\n",
       "      <td>2.415774</td>\n",
       "      <td>4.148543</td>\n",
       "      <td>0.060713</td>\n",
       "      <td>1.066275</td>\n",
       "      <td>1.503100</td>\n",
       "      <td>2.449350</td>\n",
       "      <td>1.638900e+02</td>\n",
       "    </tr>\n",
       "    <tr>\n",
       "      <th>Attr5</th>\n",
       "      <td>6318.0</td>\n",
       "      <td>259.724237</td>\n",
       "      <td>16900.579795</td>\n",
       "      <td>-102660.000000</td>\n",
       "      <td>-44.025500</td>\n",
       "      <td>-5.987600</td>\n",
       "      <td>36.462500</td>\n",
       "      <td>9.909000e+05</td>\n",
       "    </tr>\n",
       "    <tr>\n",
       "      <th>...</th>\n",
       "      <td>...</td>\n",
       "      <td>...</td>\n",
       "      <td>...</td>\n",
       "      <td>...</td>\n",
       "      <td>...</td>\n",
       "      <td>...</td>\n",
       "      <td>...</td>\n",
       "      <td>...</td>\n",
       "    </tr>\n",
       "    <tr>\n",
       "      <th>Attr61</th>\n",
       "      <td>6318.0</td>\n",
       "      <td>11.281208</td>\n",
       "      <td>35.267407</td>\n",
       "      <td>0.000408</td>\n",
       "      <td>4.884625</td>\n",
       "      <td>7.066550</td>\n",
       "      <td>10.647750</td>\n",
       "      <td>1.451500e+03</td>\n",
       "    </tr>\n",
       "    <tr>\n",
       "      <th>Attr62</th>\n",
       "      <td>6318.0</td>\n",
       "      <td>1269.437308</td>\n",
       "      <td>91545.750182</td>\n",
       "      <td>0.350220</td>\n",
       "      <td>43.977250</td>\n",
       "      <td>68.788000</td>\n",
       "      <td>105.957500</td>\n",
       "      <td>7.276000e+06</td>\n",
       "    </tr>\n",
       "    <tr>\n",
       "      <th>Attr63</th>\n",
       "      <td>6318.0</td>\n",
       "      <td>7.862085</td>\n",
       "      <td>18.222272</td>\n",
       "      <td>0.000050</td>\n",
       "      <td>3.444900</td>\n",
       "      <td>5.306150</td>\n",
       "      <td>8.299800</td>\n",
       "      <td>1.042200e+03</td>\n",
       "    </tr>\n",
       "    <tr>\n",
       "      <th>Attr64</th>\n",
       "      <td>6318.0</td>\n",
       "      <td>20.578546</td>\n",
       "      <td>161.522271</td>\n",
       "      <td>0.000066</td>\n",
       "      <td>2.502675</td>\n",
       "      <td>4.532850</td>\n",
       "      <td>9.383500</td>\n",
       "      <td>8.226600e+03</td>\n",
       "    </tr>\n",
       "    <tr>\n",
       "      <th>class</th>\n",
       "      <td>6318.0</td>\n",
       "      <td>0.016619</td>\n",
       "      <td>0.127850</td>\n",
       "      <td>0.000000</td>\n",
       "      <td>0.000000</td>\n",
       "      <td>0.000000</td>\n",
       "      <td>0.000000</td>\n",
       "      <td>1.000000e+00</td>\n",
       "    </tr>\n",
       "  </tbody>\n",
       "</table>\n",
       "<p>63 rows × 8 columns</p>\n",
       "</div>"
      ],
      "text/plain": [
       "         count         mean           std            min        25%  \\\n",
       "Attr1   6318.0     0.104830      0.155845      -1.186200   0.022538   \n",
       "Attr2   6318.0     0.502763      0.310280       0.004765   0.298922   \n",
       "Attr3   6318.0     0.186207      0.304604     -10.036000   0.029755   \n",
       "Attr4   6318.0     2.415774      4.148543       0.060713   1.066275   \n",
       "Attr5   6318.0   259.724237  16900.579795 -102660.000000 -44.025500   \n",
       "...        ...          ...           ...            ...        ...   \n",
       "Attr61  6318.0    11.281208     35.267407       0.000408   4.884625   \n",
       "Attr62  6318.0  1269.437308  91545.750182       0.350220  43.977250   \n",
       "Attr63  6318.0     7.862085     18.222272       0.000050   3.444900   \n",
       "Attr64  6318.0    20.578546    161.522271       0.000066   2.502675   \n",
       "class   6318.0     0.016619      0.127850       0.000000   0.000000   \n",
       "\n",
       "              50%         75%           max  \n",
       "Attr1    0.076168    0.157773  1.994300e+00  \n",
       "Attr2    0.481230    0.677360  1.075900e+01  \n",
       "Attr3    0.181190    0.358245  9.518000e-01  \n",
       "Attr4    1.503100    2.449350  1.638900e+02  \n",
       "Attr5   -5.987600   36.462500  9.909000e+05  \n",
       "...           ...         ...           ...  \n",
       "Attr61   7.066550   10.647750  1.451500e+03  \n",
       "Attr62  68.788000  105.957500  7.276000e+06  \n",
       "Attr63   5.306150    8.299800  1.042200e+03  \n",
       "Attr64   4.532850    9.383500  8.226600e+03  \n",
       "class    0.000000    0.000000  1.000000e+00  \n",
       "\n",
       "[63 rows x 8 columns]"
      ]
     },
     "execution_count": 12,
     "metadata": {},
     "output_type": "execute_result"
    }
   ],
   "source": [
    "stats = df.describe().T\n",
    "stats"
   ]
  },
  {
   "cell_type": "markdown",
   "id": "b1eded12",
   "metadata": {
    "papermill": {
     "duration": 0.016824,
     "end_time": "2022-07-27T16:18:32.872607",
     "exception": false,
     "start_time": "2022-07-27T16:18:32.855783",
     "status": "completed"
    },
    "tags": []
   },
   "source": [
    "## ANOVA: feature selection\n",
    "Check the importance and the significance of each variable on bankruptcy.\n",
    "Since we have two groups 'non-bankrupt' and 'Bankrupt', one simple approach is to test the significance of all the attributes through a one-way ANOVA; check the weather the mean level is different between the two groups. This will have multiple positive implications.\n",
    "1. Trim the dataset to be able analyze the important variables and visualize them.\n",
    "2. helps in feature selection when classifying and picking a right model.\n",
    "\n",
    "*                   $H_0: \\mu_1$ = $\\mu_2$\n",
    "*                   $H_1: \\mu_1$ $\\neq \\mu_2$ \n",
    "* where 1 is the first class 'Non-bankrupt' and 2 is 'Bankrupt'"
   ]
  },
  {
   "cell_type": "code",
   "execution_count": 13,
   "id": "9a0c0e2a",
   "metadata": {
    "_kg_hide-input": true,
    "execution": {
     "iopub.execute_input": "2022-07-27T16:18:32.909990Z",
     "iopub.status.busy": "2022-07-27T16:18:32.909590Z",
     "iopub.status.idle": "2022-07-27T16:18:32.916029Z",
     "shell.execute_reply": "2022-07-27T16:18:32.914754Z"
    },
    "jupyter": {
     "source_hidden": true
    },
    "papermill": {
     "duration": 0.027731,
     "end_time": "2022-07-27T16:18:32.918258",
     "exception": false,
     "start_time": "2022-07-27T16:18:32.890527",
     "status": "completed"
    },
    "tags": []
   },
   "outputs": [],
   "source": [
    "def anova(X,y):\n",
    "    #instantiate a class\n",
    "    best = SelectKBest(f_classif)\n",
    "\n",
    "    #fit\n",
    "    best.fit(X,y)\n",
    "\n",
    "    #print features whose p-value in less than 0.05\n",
    "    X_significant = best.get_feature_names_out(X.columns)\n",
    "    \n",
    "    return X_significant"
   ]
  },
  {
   "cell_type": "code",
   "execution_count": 14,
   "id": "b874da5b",
   "metadata": {
    "execution": {
     "iopub.execute_input": "2022-07-27T16:18:32.956249Z",
     "iopub.status.busy": "2022-07-27T16:18:32.955881Z",
     "iopub.status.idle": "2022-07-27T16:18:32.975696Z",
     "shell.execute_reply": "2022-07-27T16:18:32.974508Z"
    },
    "papermill": {
     "duration": 0.041001,
     "end_time": "2022-07-27T16:18:32.977978",
     "exception": false,
     "start_time": "2022-07-27T16:18:32.936977",
     "status": "completed"
    },
    "tags": []
   },
   "outputs": [
    {
     "data": {
      "text/plain": [
       "array(['Attr1', 'Attr2', 'Attr10', 'Attr14', 'Attr18', 'Attr24', 'Attr25',\n",
       "       'Attr29', 'Attr38', 'Attr51'], dtype=object)"
      ]
     },
     "execution_count": 14,
     "metadata": {},
     "output_type": "execute_result"
    }
   ],
   "source": [
    "X_significant = anova(df.iloc[:,:-1], df.iloc[:,-1])\n",
    "X_significant"
   ]
  },
  {
   "cell_type": "markdown",
   "id": "524ec340",
   "metadata": {
    "papermill": {
     "duration": 0.017342,
     "end_time": "2022-07-27T16:18:33.012945",
     "exception": false,
     "start_time": "2022-07-27T16:18:32.995603",
     "status": "completed"
    },
    "tags": []
   },
   "source": [
    "10 attributes are significant. Attr 2 that measures the return on assets (ROA) is significant than Attr 3 that measures the short-term solvency of a company. These attributes only will affect our prediction values. "
   ]
  },
  {
   "cell_type": "code",
   "execution_count": 15,
   "id": "73451d2a",
   "metadata": {
    "execution": {
     "iopub.execute_input": "2022-07-27T16:18:33.048935Z",
     "iopub.status.busy": "2022-07-27T16:18:33.048564Z",
     "iopub.status.idle": "2022-07-27T16:18:33.054963Z",
     "shell.execute_reply": "2022-07-27T16:18:33.053815Z"
    },
    "papermill": {
     "duration": 0.027023,
     "end_time": "2022-07-27T16:18:33.057231",
     "exception": false,
     "start_time": "2022-07-27T16:18:33.030208",
     "status": "completed"
    },
    "tags": []
   },
   "outputs": [],
   "source": [
    "# Split the features and target  \n",
    "X = df.loc[:,X_significant]\n",
    "y = df.iloc[:,-1]"
   ]
  },
  {
   "cell_type": "code",
   "execution_count": 16,
   "id": "99f99fa7",
   "metadata": {
    "execution": {
     "iopub.execute_input": "2022-07-27T16:18:33.094503Z",
     "iopub.status.busy": "2022-07-27T16:18:33.093384Z",
     "iopub.status.idle": "2022-07-27T16:18:33.730822Z",
     "shell.execute_reply": "2022-07-27T16:18:33.729520Z"
    },
    "papermill": {
     "duration": 0.658879,
     "end_time": "2022-07-27T16:18:33.733280",
     "exception": false,
     "start_time": "2022-07-27T16:18:33.074401",
     "status": "completed"
    },
    "tags": []
   },
   "outputs": [
    {
     "data": {
      "text/plain": [
       "<AxesSubplot:>"
      ]
     },
     "execution_count": 16,
     "metadata": {},
     "output_type": "execute_result"
    },
    {
     "data": {
      "image/png": "[encoded data removed]",
      "text/plain": [
       "<Figure size 720x648 with 2 Axes>"
      ]
     },
     "metadata": {},
     "output_type": "display_data"
    }
   ],
   "source": [
    "sns.heatmap(X.corr(), annot = True)"
   ]
  },
  {
   "cell_type": "markdown",
   "id": "c0e26b40",
   "metadata": {
    "papermill": {
     "duration": 0.017832,
     "end_time": "2022-07-27T16:18:33.769370",
     "exception": false,
     "start_time": "2022-07-27T16:18:33.751538",
     "status": "completed"
    },
    "tags": []
   },
   "source": [
    "Attr 14 and Attr 18 are perfectly correlated. \n",
    "Drop them. Redundant information "
   ]
  },
  {
   "cell_type": "code",
   "execution_count": 17,
   "id": "81260ba5",
   "metadata": {
    "execution": {
     "iopub.execute_input": "2022-07-27T16:18:33.807107Z",
     "iopub.status.busy": "2022-07-27T16:18:33.806714Z",
     "iopub.status.idle": "2022-07-27T16:18:33.813096Z",
     "shell.execute_reply": "2022-07-27T16:18:33.811891Z"
    },
    "papermill": {
     "duration": 0.027817,
     "end_time": "2022-07-27T16:18:33.815382",
     "exception": false,
     "start_time": "2022-07-27T16:18:33.787565",
     "status": "completed"
    },
    "tags": []
   },
   "outputs": [],
   "source": [
    "X.drop('Attr14', axis = 1, inplace = True)"
   ]
  },
  {
   "cell_type": "code",
   "execution_count": 18,
   "id": "f0293e95",
   "metadata": {
    "execution": {
     "iopub.execute_input": "2022-07-27T16:18:33.853911Z",
     "iopub.status.busy": "2022-07-27T16:18:33.853497Z",
     "iopub.status.idle": "2022-07-27T16:18:33.860701Z",
     "shell.execute_reply": "2022-07-27T16:18:33.859965Z"
    },
    "papermill": {
     "duration": 0.029439,
     "end_time": "2022-07-27T16:18:33.862888",
     "exception": false,
     "start_time": "2022-07-27T16:18:33.833449",
     "status": "completed"
    },
    "tags": []
   },
   "outputs": [],
   "source": [
    "# train test split\n",
    "X_train, X_test, y_train, y_test = train_test_split(X,y, test_size = 0.2, random_state = 1)"
   ]
  },
  {
   "cell_type": "markdown",
   "id": "27fdf4ac",
   "metadata": {
    "papermill": {
     "duration": 0.018078,
     "end_time": "2022-07-27T16:18:33.899258",
     "exception": false,
     "start_time": "2022-07-27T16:18:33.881180",
     "status": "completed"
    },
    "tags": []
   },
   "source": [
    "## PCA \n",
    "Vizualizing the data with PCA will help in selecting a correct model, it will help identify weather the data is linearly seperable or not. the classes might exhibit heavy overlap, hence no matter which model we choose, it will perform poorly on the test set.  "
   ]
  },
  {
   "cell_type": "code",
   "execution_count": 19,
   "id": "5df25241",
   "metadata": {
    "execution": {
     "iopub.execute_input": "2022-07-27T16:18:33.940277Z",
     "iopub.status.busy": "2022-07-27T16:18:33.939892Z",
     "iopub.status.idle": "2022-07-27T16:18:34.184291Z",
     "shell.execute_reply": "2022-07-27T16:18:34.183078Z"
    },
    "jupyter": {
     "source_hidden": true
    },
    "papermill": {
     "duration": 0.26961,
     "end_time": "2022-07-27T16:18:34.187076",
     "exception": false,
     "start_time": "2022-07-27T16:18:33.917466",
     "status": "completed"
    },
    "tags": []
   },
   "outputs": [
    {
     "data": {
      "image/png": "[encoded data removed]",
      "text/plain": [
       "<Figure size 720x648 with 1 Axes>"
      ]
     },
     "metadata": {},
     "output_type": "display_data"
    }
   ],
   "source": [
    "scaler = StandardScaler(with_std = False)\n",
    "X_train_scaled = scaler.fit_transform(X_train)\n",
    "\n",
    "pca = PCA()\n",
    "X_train_transformed = pca.fit_transform(X_train_scaled)\n",
    "\n",
    "plt.bar(x = range(1,len(pca.components_[:,0])+1), height = pca.explained_variance_ratio_)\n",
    "plt.xlabel('Principle Components')\n",
    "plt.ylabel(\"Explained Varaince %\")\n",
    "plt.show()"
   ]
  },
  {
   "cell_type": "code",
   "execution_count": 20,
   "id": "256217b2",
   "metadata": {
    "execution": {
     "iopub.execute_input": "2022-07-27T16:18:34.233062Z",
     "iopub.status.busy": "2022-07-27T16:18:34.231872Z",
     "iopub.status.idle": "2022-07-27T16:18:34.659645Z",
     "shell.execute_reply": "2022-07-27T16:18:34.658399Z"
    },
    "papermill": {
     "duration": 0.450934,
     "end_time": "2022-07-27T16:18:34.662039",
     "exception": false,
     "start_time": "2022-07-27T16:18:34.211105",
     "status": "completed"
    },
    "tags": []
   },
   "outputs": [
    {
     "name": "stderr",
     "output_type": "stream",
     "text": [
      "/opt/conda/lib/python3.7/site-packages/seaborn/_decorators.py:43: FutureWarning: Pass the following variables as keyword args: x, y. From version 0.12, the only valid positional argument will be `data`, and passing other arguments without an explicit keyword will result in an error or misinterpretation.\n",
      "  FutureWarning\n"
     ]
    },
    {
     "data": {
      "image/png": "[encoded data removed]",
      "text/plain": [
       "<Figure size 720x648 with 1 Axes>"
      ]
     },
     "metadata": {},
     "output_type": "display_data"
    }
   ],
   "source": [
    "#Vizualizing only two components\n",
    "sns.scatterplot(X_train_transformed[:,0], X_train_transformed[:,1], hue = y_train)\n",
    "plt.show()"
   ]
  },
  {
   "cell_type": "markdown",
   "id": "245da3a5",
   "metadata": {
    "papermill": {
     "duration": 0.020457,
     "end_time": "2022-07-27T16:18:34.703323",
     "exception": false,
     "start_time": "2022-07-27T16:18:34.682866",
     "status": "completed"
    },
    "tags": []
   },
   "source": [
    "Even though, we selected the relevant features, the classes overlap heavily. This suggests that models will perform poorly "
   ]
  },
  {
   "cell_type": "markdown",
   "id": "4a59f842",
   "metadata": {
    "papermill": {
     "duration": 0.02027,
     "end_time": "2022-07-27T16:18:34.744515",
     "exception": false,
     "start_time": "2022-07-27T16:18:34.724245",
     "status": "completed"
    },
    "tags": []
   },
   "source": [
    "# SMOTE\n",
    "As stated the data is extremely imbalanced. Over-sampling is implemented to remedy this issue. "
   ]
  },
  {
   "cell_type": "code",
   "execution_count": 21,
   "id": "c5fe4c97",
   "metadata": {
    "execution": {
     "iopub.execute_input": "2022-07-27T16:18:34.788195Z",
     "iopub.status.busy": "2022-07-27T16:18:34.787021Z",
     "iopub.status.idle": "2022-07-27T16:18:34.820167Z",
     "shell.execute_reply": "2022-07-27T16:18:34.819247Z"
    },
    "papermill": {
     "duration": 0.057964,
     "end_time": "2022-07-27T16:18:34.823110",
     "exception": false,
     "start_time": "2022-07-27T16:18:34.765146",
     "status": "completed"
    },
    "tags": []
   },
   "outputs": [
    {
     "data": {
      "text/html": [
       "<div>\n",
       "<style scoped>\n",
       "    .dataframe tbody tr th:only-of-type {\n",
       "        vertical-align: middle;\n",
       "    }\n",
       "\n",
       "    .dataframe tbody tr th {\n",
       "        vertical-align: top;\n",
       "    }\n",
       "\n",
       "    .dataframe thead th {\n",
       "        text-align: right;\n",
       "    }\n",
       "</style>\n",
       "<table border=\"1\" class=\"dataframe\">\n",
       "  <thead>\n",
       "    <tr style=\"text-align: right;\">\n",
       "      <th></th>\n",
       "      <th>Attr1</th>\n",
       "      <th>Attr2</th>\n",
       "      <th>Attr10</th>\n",
       "      <th>Attr18</th>\n",
       "      <th>Attr24</th>\n",
       "      <th>Attr25</th>\n",
       "      <th>Attr29</th>\n",
       "      <th>Attr38</th>\n",
       "      <th>Attr51</th>\n",
       "    </tr>\n",
       "  </thead>\n",
       "  <tbody>\n",
       "    <tr>\n",
       "      <th>0</th>\n",
       "      <td>0.264430</td>\n",
       "      <td>0.519670</td>\n",
       "      <td>0.480330</td>\n",
       "      <td>0.328770</td>\n",
       "      <td>0.490780</td>\n",
       "      <td>0.439060</td>\n",
       "      <td>3.514700</td>\n",
       "      <td>0.882400</td>\n",
       "      <td>0.109160</td>\n",
       "    </tr>\n",
       "    <tr>\n",
       "      <th>1</th>\n",
       "      <td>0.008414</td>\n",
       "      <td>0.932810</td>\n",
       "      <td>0.054602</td>\n",
       "      <td>0.010588</td>\n",
       "      <td>0.021175</td>\n",
       "      <td>0.045050</td>\n",
       "      <td>4.641100</td>\n",
       "      <td>0.199130</td>\n",
       "      <td>0.708120</td>\n",
       "    </tr>\n",
       "    <tr>\n",
       "      <th>2</th>\n",
       "      <td>-0.093584</td>\n",
       "      <td>0.580220</td>\n",
       "      <td>0.419780</td>\n",
       "      <td>-0.100300</td>\n",
       "      <td>-0.111730</td>\n",
       "      <td>0.181030</td>\n",
       "      <td>3.828100</td>\n",
       "      <td>0.419780</td>\n",
       "      <td>0.485360</td>\n",
       "    </tr>\n",
       "    <tr>\n",
       "      <th>3</th>\n",
       "      <td>0.186510</td>\n",
       "      <td>0.317240</td>\n",
       "      <td>0.682760</td>\n",
       "      <td>0.240130</td>\n",
       "      <td>0.240130</td>\n",
       "      <td>0.430170</td>\n",
       "      <td>3.323200</td>\n",
       "      <td>0.925920</td>\n",
       "      <td>0.074080</td>\n",
       "    </tr>\n",
       "    <tr>\n",
       "      <th>4</th>\n",
       "      <td>0.646460</td>\n",
       "      <td>0.218940</td>\n",
       "      <td>0.781060</td>\n",
       "      <td>0.646460</td>\n",
       "      <td>1.194400</td>\n",
       "      <td>0.568570</td>\n",
       "      <td>3.434400</td>\n",
       "      <td>0.781060</td>\n",
       "      <td>0.218940</td>\n",
       "    </tr>\n",
       "    <tr>\n",
       "      <th>...</th>\n",
       "      <td>...</td>\n",
       "      <td>...</td>\n",
       "      <td>...</td>\n",
       "      <td>...</td>\n",
       "      <td>...</td>\n",
       "      <td>...</td>\n",
       "      <td>...</td>\n",
       "      <td>...</td>\n",
       "      <td>...</td>\n",
       "    </tr>\n",
       "    <tr>\n",
       "      <th>7451</th>\n",
       "      <td>0.130211</td>\n",
       "      <td>0.667649</td>\n",
       "      <td>0.332424</td>\n",
       "      <td>0.167347</td>\n",
       "      <td>0.167347</td>\n",
       "      <td>0.232030</td>\n",
       "      <td>3.413084</td>\n",
       "      <td>0.421931</td>\n",
       "      <td>0.538154</td>\n",
       "    </tr>\n",
       "    <tr>\n",
       "      <th>7452</th>\n",
       "      <td>-0.003161</td>\n",
       "      <td>0.395227</td>\n",
       "      <td>0.604771</td>\n",
       "      <td>0.150517</td>\n",
       "      <td>0.289107</td>\n",
       "      <td>0.517368</td>\n",
       "      <td>4.695703</td>\n",
       "      <td>0.794419</td>\n",
       "      <td>0.200373</td>\n",
       "    </tr>\n",
       "    <tr>\n",
       "      <th>7453</th>\n",
       "      <td>0.017524</td>\n",
       "      <td>0.277484</td>\n",
       "      <td>0.722508</td>\n",
       "      <td>0.025096</td>\n",
       "      <td>0.052789</td>\n",
       "      <td>0.498404</td>\n",
       "      <td>4.842631</td>\n",
       "      <td>0.727086</td>\n",
       "      <td>0.213660</td>\n",
       "    </tr>\n",
       "    <tr>\n",
       "      <th>7454</th>\n",
       "      <td>0.003221</td>\n",
       "      <td>0.687695</td>\n",
       "      <td>0.312099</td>\n",
       "      <td>0.015223</td>\n",
       "      <td>0.015223</td>\n",
       "      <td>0.098805</td>\n",
       "      <td>3.017721</td>\n",
       "      <td>0.321189</td>\n",
       "      <td>0.624800</td>\n",
       "    </tr>\n",
       "    <tr>\n",
       "      <th>7455</th>\n",
       "      <td>0.031372</td>\n",
       "      <td>0.777563</td>\n",
       "      <td>0.222347</td>\n",
       "      <td>0.042789</td>\n",
       "      <td>0.042789</td>\n",
       "      <td>0.049062</td>\n",
       "      <td>4.039569</td>\n",
       "      <td>0.264630</td>\n",
       "      <td>0.660816</td>\n",
       "    </tr>\n",
       "  </tbody>\n",
       "</table>\n",
       "<p>7456 rows × 9 columns</p>\n",
       "</div>"
      ],
      "text/plain": [
       "         Attr1     Attr2    Attr10    Attr18    Attr24    Attr25    Attr29  \\\n",
       "0     0.264430  0.519670  0.480330  0.328770  0.490780  0.439060  3.514700   \n",
       "1     0.008414  0.932810  0.054602  0.010588  0.021175  0.045050  4.641100   \n",
       "2    -0.093584  0.580220  0.419780 -0.100300 -0.111730  0.181030  3.828100   \n",
       "3     0.186510  0.317240  0.682760  0.240130  0.240130  0.430170  3.323200   \n",
       "4     0.646460  0.218940  0.781060  0.646460  1.194400  0.568570  3.434400   \n",
       "...        ...       ...       ...       ...       ...       ...       ...   \n",
       "7451  0.130211  0.667649  0.332424  0.167347  0.167347  0.232030  3.413084   \n",
       "7452 -0.003161  0.395227  0.604771  0.150517  0.289107  0.517368  4.695703   \n",
       "7453  0.017524  0.277484  0.722508  0.025096  0.052789  0.498404  4.842631   \n",
       "7454  0.003221  0.687695  0.312099  0.015223  0.015223  0.098805  3.017721   \n",
       "7455  0.031372  0.777563  0.222347  0.042789  0.042789  0.049062  4.039569   \n",
       "\n",
       "        Attr38    Attr51  \n",
       "0     0.882400  0.109160  \n",
       "1     0.199130  0.708120  \n",
       "2     0.419780  0.485360  \n",
       "3     0.925920  0.074080  \n",
       "4     0.781060  0.218940  \n",
       "...        ...       ...  \n",
       "7451  0.421931  0.538154  \n",
       "7452  0.794419  0.200373  \n",
       "7453  0.727086  0.213660  \n",
       "7454  0.321189  0.624800  \n",
       "7455  0.264630  0.660816  \n",
       "\n",
       "[7456 rows x 9 columns]"
      ]
     },
     "execution_count": 21,
     "metadata": {},
     "output_type": "execute_result"
    }
   ],
   "source": [
    "# Fit resample\n",
    "over_sample = SMOTE(sampling_strategy = 0.5,random_state = 1)\n",
    "X_train, y_train = over_sample.fit_resample(X_train, y_train)\n",
    "X_train"
   ]
  },
  {
   "cell_type": "markdown",
   "id": "978dcf00",
   "metadata": {
    "papermill": {
     "duration": 0.020765,
     "end_time": "2022-07-27T16:18:34.865179",
     "exception": false,
     "start_time": "2022-07-27T16:18:34.844414",
     "status": "completed"
    },
    "tags": []
   },
   "source": [
    "# Logistic regression model"
   ]
  },
  {
   "cell_type": "code",
   "execution_count": 22,
   "id": "d30602df",
   "metadata": {
    "execution": {
     "iopub.execute_input": "2022-07-27T16:18:34.909571Z",
     "iopub.status.busy": "2022-07-27T16:18:34.909166Z",
     "iopub.status.idle": "2022-07-27T16:18:35.248564Z",
     "shell.execute_reply": "2022-07-27T16:18:35.247255Z"
    },
    "papermill": {
     "duration": 0.364993,
     "end_time": "2022-07-27T16:18:35.251458",
     "exception": false,
     "start_time": "2022-07-27T16:18:34.886465",
     "status": "completed"
    },
    "tags": []
   },
   "outputs": [
    {
     "data": {
      "text/plain": [
       "Pipeline(steps=[('standardscaler', StandardScaler(with_std=False)),\n",
       "                ('logisticregression', LogisticRegression())])"
      ]
     },
     "execution_count": 22,
     "metadata": {},
     "output_type": "execute_result"
    }
   ],
   "source": [
    "# make pipe line\n",
    "pipe = make_pipeline(\n",
    "    StandardScaler(with_std = False),\n",
    "    LogisticRegression(penalty = 'l2', fit_intercept = True)\n",
    ")\n",
    "pipe.fit(X_train, y_train)"
   ]
  },
  {
   "cell_type": "markdown",
   "id": "04c11fde",
   "metadata": {
    "papermill": {
     "duration": 0.021666,
     "end_time": "2022-07-27T16:18:35.294306",
     "exception": false,
     "start_time": "2022-07-27T16:18:35.272640",
     "status": "completed"
    },
    "tags": []
   },
   "source": [
    "## Classification report"
   ]
  },
  {
   "cell_type": "code",
   "execution_count": 23,
   "id": "15545966",
   "metadata": {
    "execution": {
     "iopub.execute_input": "2022-07-27T16:18:35.340156Z",
     "iopub.status.busy": "2022-07-27T16:18:35.339594Z",
     "iopub.status.idle": "2022-07-27T16:18:35.347007Z",
     "shell.execute_reply": "2022-07-27T16:18:35.346042Z"
    },
    "jupyter": {
     "source_hidden": true
    },
    "papermill": {
     "duration": 0.033012,
     "end_time": "2022-07-27T16:18:35.349094",
     "exception": false,
     "start_time": "2022-07-27T16:18:35.316082",
     "status": "completed"
    },
    "tags": []
   },
   "outputs": [],
   "source": [
    "def plot_roc_curve(model, y_probs, y_test):\n",
    "    \"\"\"plots the roc curvee\"\"\"\n",
    "    null_model_probs = [0 for idx in range(len(y_test))]\n",
    "\n",
    "    fpr, tpr, thresholds = roc_curve(y_test, y_probs[:,1])\n",
    "    null_fpr, null_tpr, null_thresholds = roc_curve(y_test, null_model_probs)\n",
    "\n",
    "    plt.plot(fpr,tpr, marker = '.', label = 'logistic')\n",
    "    plt.plot(null_fpr, null_tpr, marker = '_', label = 'null_model')\n",
    "\n",
    "    plt.xlabel('False positive rate')\n",
    "    plt.ylabel('True possitive rate')\n",
    "    plt.show()\n"
   ]
  },
  {
   "cell_type": "code",
   "execution_count": 24,
   "id": "d069403f",
   "metadata": {
    "execution": {
     "iopub.execute_input": "2022-07-27T16:18:35.393289Z",
     "iopub.status.busy": "2022-07-27T16:18:35.392715Z",
     "iopub.status.idle": "2022-07-27T16:18:35.643690Z",
     "shell.execute_reply": "2022-07-27T16:18:35.641558Z"
    },
    "papermill": {
     "duration": 0.278075,
     "end_time": "2022-07-27T16:18:35.648193",
     "exception": false,
     "start_time": "2022-07-27T16:18:35.370118",
     "status": "completed"
    },
    "tags": []
   },
   "outputs": [
    {
     "data": {
      "image/png": "[encoded data removed]",
      "text/plain": [
       "<Figure size 720x648 with 1 Axes>"
      ]
     },
     "metadata": {},
     "output_type": "display_data"
    },
    {
     "name": "stdout",
     "output_type": "stream",
     "text": [
      "Classification Report:\n",
      "               precision    recall  f1-score   support\n",
      "\n",
      "           0       0.99      0.88      0.93      1242\n",
      "           1       0.06      0.41      0.10        22\n",
      "\n",
      "    accuracy                           0.87      1264\n",
      "   macro avg       0.52      0.64      0.51      1264\n",
      "weighted avg       0.97      0.87      0.91      1264\n",
      "\n",
      "confusion Matrix: \n",
      " [[1089  153]\n",
      " [  13    9]]\n",
      "AUC:  0.6429512516469039\n"
     ]
    }
   ],
   "source": [
    "y_probs = pipe.predict_proba(X_test)\n",
    "plot_roc_curve(pipe, y_probs, y_test)\n",
    "\n",
    "y_pred = pipe.predict(X_test)\n",
    "print(\"Classification Report:\\n\", classification_report(y_test, y_pred))\n",
    "print(\"confusion Matrix: \\n\", confusion_matrix(y_test, y_pred))\n",
    "print(\"AUC: \",roc_auc_score(y_test, y_pred))"
   ]
  },
  {
   "cell_type": "markdown",
   "id": "f75469d6",
   "metadata": {
    "papermill": {
     "duration": 0.041048,
     "end_time": "2022-07-27T16:18:35.731520",
     "exception": false,
     "start_time": "2022-07-27T16:18:35.690472",
     "status": "completed"
    },
    "tags": []
   },
   "source": [
    "**41%** of the positive samples (bankrupt) were correctly classified, however with a high false positive rate of  $153/(153+1089)$ = **12%**. This would cost a lot of dollars for these false alarms. The classifier has **64%** chance of correctly disnguishing a Bankrupt from a Non-Bankrupt company.\n",
    "The model could be tweaked by increasing the threshold to decrease the false positive rate. this depends on the business problem and the type of organisation using this model. Some might prioritise recall over precision. "
   ]
  },
  {
   "cell_type": "code",
   "execution_count": 25,
   "id": "90876017",
   "metadata": {
    "execution": {
     "iopub.execute_input": "2022-07-27T16:18:35.781480Z",
     "iopub.status.busy": "2022-07-27T16:18:35.781085Z",
     "iopub.status.idle": "2022-07-27T16:18:35.786773Z",
     "shell.execute_reply": "2022-07-27T16:18:35.785900Z"
    },
    "jupyter": {
     "source_hidden": true
    },
    "papermill": {
     "duration": 0.03062,
     "end_time": "2022-07-27T16:18:35.788713",
     "exception": false,
     "start_time": "2022-07-27T16:18:35.758093",
     "status": "completed"
    },
    "tags": []
   },
   "outputs": [],
   "source": [
    "def tune_threshold(y_probs, threshold):\n",
    "    \n",
    "    \"\"\" Predicts target with varing the threshold\"\"\"\n",
    "    y_pred_with_threshold = []\n",
    "\n",
    "    for prob in y_probs[:,1]:\n",
    "            if prob > threshold:\n",
    "                y_pred_with_threshold.append(1)\n",
    "            else:\n",
    "                y_pred_with_threshold.append(0)\n",
    "    return y_pred_with_threshold"
   ]
  },
  {
   "cell_type": "code",
   "execution_count": 26,
   "id": "1db20abe",
   "metadata": {
    "execution": {
     "iopub.execute_input": "2022-07-27T16:18:35.834335Z",
     "iopub.status.busy": "2022-07-27T16:18:35.833633Z",
     "iopub.status.idle": "2022-07-27T16:18:35.849305Z",
     "shell.execute_reply": "2022-07-27T16:18:35.848196Z"
    },
    "papermill": {
     "duration": 0.041224,
     "end_time": "2022-07-27T16:18:35.852000",
     "exception": false,
     "start_time": "2022-07-27T16:18:35.810776",
     "status": "completed"
    },
    "tags": []
   },
   "outputs": [
    {
     "name": "stdout",
     "output_type": "stream",
     "text": [
      "Classification Report:\n",
      "               precision    recall  f1-score   support\n",
      "\n",
      "           0       0.99      0.94      0.96      1242\n",
      "           1       0.08      0.27      0.12        22\n",
      "\n",
      "    accuracy                           0.93      1264\n",
      "   macro avg       0.53      0.61      0.54      1264\n",
      "weighted avg       0.97      0.93      0.95      1264\n",
      "\n",
      "confusion Matrix: \n",
      " [[1172   70]\n",
      " [  16    6]]\n",
      "AUC:  0.6081832820963256\n"
     ]
    }
   ],
   "source": [
    "y_pred_tuned = tune_threshold(y_probs, 0.6)\n",
    "print(\"Classification Report:\\n\", classification_report(y_test, y_pred_tuned))\n",
    "print(\"confusion Matrix: \\n\", confusion_matrix(y_test, y_pred_tuned))\n",
    "print(\"AUC: \",roc_auc_score(y_test, y_pred_tuned))"
   ]
  },
  {
   "cell_type": "markdown",
   "id": "f7013477",
   "metadata": {
    "papermill": {
     "duration": 0.021692,
     "end_time": "2022-07-27T16:18:35.895350",
     "exception": false,
     "start_time": "2022-07-27T16:18:35.873658",
     "status": "completed"
    },
    "tags": []
   },
   "source": [
    "An organization might only accept\\risk **5%** false positive rate; hence, raising the threshold to **0.6**, making them classify only 6 bankrupt companies."
   ]
  },
  {
   "cell_type": "markdown",
   "id": "40ea1ef5",
   "metadata": {
    "papermill": {
     "duration": 0.027919,
     "end_time": "2022-07-27T16:18:35.945127",
     "exception": false,
     "start_time": "2022-07-27T16:18:35.917208",
     "status": "completed"
    },
    "tags": []
   },
   "source": [
    "### Quantifying the effect of each variable on the prediction"
   ]
  },
  {
   "cell_type": "code",
   "execution_count": 27,
   "id": "ccaf1bbd",
   "metadata": {
    "execution": {
     "iopub.execute_input": "2022-07-27T16:18:35.998077Z",
     "iopub.status.busy": "2022-07-27T16:18:35.997229Z",
     "iopub.status.idle": "2022-07-27T16:18:36.005017Z",
     "shell.execute_reply": "2022-07-27T16:18:36.004079Z"
    },
    "papermill": {
     "duration": 0.041721,
     "end_time": "2022-07-27T16:18:36.010142",
     "exception": false,
     "start_time": "2022-07-27T16:18:35.968421",
     "status": "completed"
    },
    "tags": []
   },
   "outputs": [
    {
     "data": {
      "text/plain": [
       "array([[-4.00085431,  6.53106313,  5.64164227,  3.2003667 , -1.97467406,\n",
       "        -0.85434412, -0.94107676, -1.97686949, -1.46944156]])"
      ]
     },
     "execution_count": 27,
     "metadata": {},
     "output_type": "execute_result"
    }
   ],
   "source": [
    "model = pipe.named_steps['logisticregression']\n",
    "model.coef_"
   ]
  },
  {
   "cell_type": "code",
   "execution_count": 28,
   "id": "87c1e2c0",
   "metadata": {
    "execution": {
     "iopub.execute_input": "2022-07-27T16:18:36.063137Z",
     "iopub.status.busy": "2022-07-27T16:18:36.062119Z",
     "iopub.status.idle": "2022-07-27T16:18:36.068557Z",
     "shell.execute_reply": "2022-07-27T16:18:36.067407Z"
    },
    "papermill": {
     "duration": 0.032639,
     "end_time": "2022-07-27T16:18:36.070735",
     "exception": false,
     "start_time": "2022-07-27T16:18:36.038096",
     "status": "completed"
    },
    "tags": []
   },
   "outputs": [
    {
     "data": {
      "text/plain": [
       "array(['Attr1', 'Attr2', 'Attr10', 'Attr18', 'Attr24', 'Attr25', 'Attr29',\n",
       "       'Attr38', 'Attr51'], dtype=object)"
      ]
     },
     "execution_count": 28,
     "metadata": {},
     "output_type": "execute_result"
    }
   ],
   "source": [
    "feature_names = pipe.feature_names_in_\n",
    "feature_names"
   ]
  },
  {
   "cell_type": "markdown",
   "id": "7646f2b8",
   "metadata": {
    "papermill": {
     "duration": 0.021517,
     "end_time": "2022-07-27T16:18:36.114244",
     "exception": false,
     "start_time": "2022-07-27T16:18:36.092727",
     "status": "completed"
    },
    "tags": []
   },
   "source": [
    "**Equation:**\n",
    "\n",
    "$log(p/1-p)= -0.819\n",
    "-4.016X_1 + 6.5271X_2 + 5.639X_3 + 3.214X_4 - 1.976X_5 - 0.855X_6\n",
    "- 0.940X_7 - 1.976X_8 -1.467X_9$ "
   ]
  },
  {
   "cell_type": "code",
   "execution_count": 29,
   "id": "61769362",
   "metadata": {
    "execution": {
     "iopub.execute_input": "2022-07-27T16:18:36.159513Z",
     "iopub.status.busy": "2022-07-27T16:18:36.158835Z",
     "iopub.status.idle": "2022-07-27T16:18:36.164540Z",
     "shell.execute_reply": "2022-07-27T16:18:36.163759Z"
    },
    "jupyter": {
     "source_hidden": true
    },
    "papermill": {
     "duration": 0.030922,
     "end_time": "2022-07-27T16:18:36.166794",
     "exception": false,
     "start_time": "2022-07-27T16:18:36.135872",
     "status": "completed"
    },
    "tags": []
   },
   "outputs": [],
   "source": [
    "def get_odds(feature_names, model):\n",
    "    \"\"\" gets the odds ratio of the coeffients multiplied by a 100  \"\"\"\n",
    "    \n",
    "    for var, coef in enumerate(model.coef_[0,]):\n",
    "        odds = (np.exp(coef) * 100)\n",
    "        odds = round(odds, 2)\n",
    "        print(feature_names[var],\":\", odds)"
   ]
  },
  {
   "cell_type": "code",
   "execution_count": 30,
   "id": "92f38b15",
   "metadata": {
    "execution": {
     "iopub.execute_input": "2022-07-27T16:18:36.213455Z",
     "iopub.status.busy": "2022-07-27T16:18:36.212760Z",
     "iopub.status.idle": "2022-07-27T16:18:36.219372Z",
     "shell.execute_reply": "2022-07-27T16:18:36.217628Z"
    },
    "papermill": {
     "duration": 0.033028,
     "end_time": "2022-07-27T16:18:36.221906",
     "exception": false,
     "start_time": "2022-07-27T16:18:36.188878",
     "status": "completed"
    },
    "tags": []
   },
   "outputs": [
    {
     "name": "stdout",
     "output_type": "stream",
     "text": [
      "Attr1 : 1.83\n",
      "Attr2 : 68612.73\n",
      "Attr10 : 28192.53\n",
      "Attr18 : 2454.15\n",
      "Attr24 : 13.88\n",
      "Attr25 : 42.56\n",
      "Attr29 : 39.02\n",
      "Attr38 : 13.85\n",
      "Attr51 : 23.01\n"
     ]
    }
   ],
   "source": [
    "get_odds(feature_names, model)"
   ]
  },
  {
   "cell_type": "markdown",
   "id": "2b8aaf25",
   "metadata": {
    "papermill": {
     "duration": 0.021684,
     "end_time": "2022-07-27T16:18:36.265507",
     "exception": false,
     "start_time": "2022-07-27T16:18:36.243823",
     "status": "completed"
    },
    "tags": []
   },
   "source": [
    "### Findings\n",
    "These variables are the ones affecting our classification.\n",
    "Logistic regression was used to analyze the effect of these 9 predictors with respect to bankruptcy. It was found that, Attr1 (return on assets) ***decreases*** the risk of bankruptcy by 98.6%. An in Attr2 ***increases*** the risk of bankruptcy by 24139%, this is doesn't violate theory, as it measures the solvency of a company, it also has the most significant on prediction. An increase Attr24 b a unit ***decreases*** the risk of bankruptcy by 56% on average."
   ]
  },
  {
   "cell_type": "markdown",
   "id": "d891b48e",
   "metadata": {
    "papermill": {
     "duration": 0.021821,
     "end_time": "2022-07-27T16:18:36.309571",
     "exception": false,
     "start_time": "2022-07-27T16:18:36.287750",
     "status": "completed"
    },
    "tags": []
   },
   "source": []
  },
  {
   "cell_type": "code",
   "execution_count": 31,
   "id": "c620a8e8",
   "metadata": {
    "execution": {
     "iopub.execute_input": "2022-07-27T16:18:36.356782Z",
     "iopub.status.busy": "2022-07-27T16:18:36.355712Z",
     "iopub.status.idle": "2022-07-27T16:18:38.309950Z",
     "shell.execute_reply": "2022-07-27T16:18:38.308685Z"
    },
    "papermill": {
     "duration": 1.980756,
     "end_time": "2022-07-27T16:18:38.312489",
     "exception": false,
     "start_time": "2022-07-27T16:18:36.331733",
     "status": "completed"
    },
    "tags": []
   },
   "outputs": [
    {
     "data": {
      "text/plain": [
       "Pipeline(steps=[('randomforestclassifier', RandomForestClassifier())])"
      ]
     },
     "execution_count": 31,
     "metadata": {},
     "output_type": "execute_result"
    }
   ],
   "source": [
    "pipe2 = make_pipeline(\n",
    "    RandomForestClassifier()\n",
    ")\n",
    "pipe2.fit(X_train, y_train)"
   ]
  },
  {
   "cell_type": "code",
   "execution_count": 32,
   "id": "5a43dd63",
   "metadata": {
    "execution": {
     "iopub.execute_input": "2022-07-27T16:18:38.391449Z",
     "iopub.status.busy": "2022-07-27T16:18:38.390511Z",
     "iopub.status.idle": "2022-07-27T16:18:38.439112Z",
     "shell.execute_reply": "2022-07-27T16:18:38.437463Z"
    },
    "papermill": {
     "duration": 0.106847,
     "end_time": "2022-07-27T16:18:38.441727",
     "exception": false,
     "start_time": "2022-07-27T16:18:38.334880",
     "status": "completed"
    },
    "tags": []
   },
   "outputs": [
    {
     "name": "stdout",
     "output_type": "stream",
     "text": [
      "              precision    recall  f1-score   support\n",
      "\n",
      "           0       0.98      0.96      0.97      1242\n",
      "           1       0.02      0.05      0.03        22\n",
      "\n",
      "    accuracy                           0.95      1264\n",
      "   macro avg       0.50      0.51      0.50      1264\n",
      "weighted avg       0.97      0.95      0.96      1264\n",
      "\n",
      "[[1198   44]\n",
      " [  21    1]]\n"
     ]
    }
   ],
   "source": [
    "y_pred_lgbm = pipe2.predict(X_test)\n",
    "print(classification_report(y_test, y_pred_lgbm))\n",
    "print(confusion_matrix(y_test, y_pred_lgbm))"
   ]
  }
 ],
 "metadata": {
  "kernelspec": {
   "display_name": "Python 3",
   "language": "python",
   "name": "python3"
  },
  "language_info": {
   "codemirror_mode": {
    "name": "ipython",
    "version": 3
   },
   "file_extension": ".py",
   "mimetype": "text/x-python",
   "name": "python",
   "nbconvert_exporter": "python",
   "pygments_lexer": "ipython3",
   "version": "3.7.12"
  },
  "papermill": {
   "default_parameters": {},
   "duration": 22.714809,
   "end_time": "2022-07-27T16:18:39.286033",
   "environment_variables": {},
   "exception": null,
   "input_path": "__notebook__.ipynb",
   "output_path": "__notebook__.ipynb",
   "parameters": {},
   "start_time": "2022-07-27T16:18:16.571224",
   "version": "2.3.4"
  }
 },
 "nbformat": 4,
 "nbformat_minor": 5
}
